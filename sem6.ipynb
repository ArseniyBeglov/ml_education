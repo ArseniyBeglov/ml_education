{
 "cells": [
  {
   "cell_type": "code",
   "execution_count": 4,
   "id": "initial_id",
   "metadata": {
    "collapsed": true,
    "ExecuteTime": {
     "end_time": "2024-04-29T10:51:26.621244Z",
     "start_time": "2024-04-29T10:51:26.598575Z"
    }
   },
   "outputs": [
    {
     "ename": "ValueError",
     "evalue": "too many values to unpack (expected 4)",
     "output_type": "error",
     "traceback": [
      "\u001B[0;31m---------------------------------------------------------------------------\u001B[0m",
      "\u001B[0;31mValueError\u001B[0m                                Traceback (most recent call last)",
      "Cell \u001B[0;32mIn[4], line 84\u001B[0m\n\u001B[1;32m     81\u001B[0m     env\u001B[38;5;241m.\u001B[39mclose()\n\u001B[1;32m     83\u001B[0m \u001B[38;5;28;01mif\u001B[39;00m \u001B[38;5;18m__name__\u001B[39m \u001B[38;5;241m==\u001B[39m \u001B[38;5;124m\"\u001B[39m\u001B[38;5;124m__main__\u001B[39m\u001B[38;5;124m\"\u001B[39m:\n\u001B[0;32m---> 84\u001B[0m     \u001B[43mmain\u001B[49m\u001B[43m(\u001B[49m\u001B[43m)\u001B[49m\n",
      "Cell \u001B[0;32mIn[4], line 43\u001B[0m, in \u001B[0;36mmain\u001B[0;34m()\u001B[0m\n\u001B[1;32m     40\u001B[0m     action \u001B[38;5;241m=\u001B[39m np\u001B[38;5;241m.\u001B[39margmax(qtable[state,:])\n\u001B[1;32m     42\u001B[0m \u001B[38;5;66;03m# take action and observe reward\u001B[39;00m\n\u001B[0;32m---> 43\u001B[0m new_state, reward, done, info \u001B[38;5;241m=\u001B[39m env\u001B[38;5;241m.\u001B[39mstep(action)\n\u001B[1;32m     45\u001B[0m \u001B[38;5;66;03m# Q-learning algorithm\u001B[39;00m\n\u001B[1;32m     46\u001B[0m qtable[state,action] \u001B[38;5;241m=\u001B[39m qtable[state,action] \u001B[38;5;241m+\u001B[39m learning_rate \u001B[38;5;241m*\u001B[39m (reward \u001B[38;5;241m+\u001B[39m discount_rate \u001B[38;5;241m*\u001B[39m np\u001B[38;5;241m.\u001B[39mmax(qtable[new_state,:])\u001B[38;5;241m-\u001B[39mqtable[state,action])\n",
      "\u001B[0;31mValueError\u001B[0m: too many values to unpack (expected 4)"
     ]
    }
   ],
   "source": [
    "import numpy as np\n",
    "import gym\n",
    "import random\n",
    "\n",
    "def main():\n",
    "\n",
    "    # create Taxi environment\n",
    "    env = gym.make('Taxi-v3')\n",
    "\n",
    "    # initialize q-table\n",
    "    state_size = env.observation_space.n\n",
    "    action_size = env.action_space.n\n",
    "    qtable = np.zeros((state_size, action_size))\n",
    "\n",
    "    # hyperparameters\n",
    "    learning_rate = 0.9\n",
    "    discount_rate = 0.8\n",
    "    epsilon = 1.0\n",
    "    decay_rate= 0.005\n",
    "\n",
    "    # training variables\n",
    "    num_episodes = 1000\n",
    "    max_steps = 99 # per episode\n",
    "\n",
    "    # training\n",
    "    for episode in range(num_episodes):\n",
    "\n",
    "        # reset the environment\n",
    "        state = env.reset()\n",
    "        done = False\n",
    "\n",
    "        for s in range(max_steps):\n",
    "\n",
    "            # exploration-exploitation tradeoff\n",
    "            if random.uniform(0,1) < epsilon:\n",
    "                # explore\n",
    "                action = env.action_space.sample()\n",
    "            else:\n",
    "                # exploit\n",
    "                action = np.argmax(qtable[state,:])\n",
    "\n",
    "            # take action and observe reward\n",
    "            new_state, reward, done, info = env.step(action)\n",
    "\n",
    "            # Q-learning algorithm\n",
    "            qtable[state,action] = qtable[state,action] + learning_rate * (reward + discount_rate * np.max(qtable[new_state,:])-qtable[state,action])\n",
    "\n",
    "            # Update to our new state\n",
    "            state = new_state\n",
    "\n",
    "            # if done, finish episode\n",
    "            if done == True:\n",
    "                break\n",
    "\n",
    "        # Decrease epsilon\n",
    "        epsilon = np.exp(-decay_rate*episode)\n",
    "\n",
    "    print(f\"Training completed over {num_episodes} episodes\")\n",
    "    input(\"Press Enter to watch trained agent...\")\n",
    "\n",
    "    # watch trained agent\n",
    "    state = env.reset()\n",
    "    done = False\n",
    "    rewards = 0\n",
    "\n",
    "    for s in range(max_steps):\n",
    "\n",
    "        print(f\"TRAINED AGENT\")\n",
    "        print(\"Step {}\".format(s+1))\n",
    "\n",
    "        action = np.argmax(qtable[state,:])\n",
    "        new_state, reward, done, info = env.step(action)\n",
    "        rewards += reward\n",
    "        env.render()\n",
    "        print(f\"score: {rewards}\")\n",
    "        state = new_state\n",
    "\n",
    "        if done == True:\n",
    "            break\n",
    "\n",
    "    env.close()\n",
    "\n",
    "if __name__ == \"__main__\":\n",
    "    main()"
   ]
  },
  {
   "cell_type": "code",
   "execution_count": null,
   "outputs": [],
   "source": [],
   "metadata": {
    "collapsed": false
   },
   "id": "8514f00a89094ae0"
  }
 ],
 "metadata": {
  "kernelspec": {
   "display_name": "Python 3",
   "language": "python",
   "name": "python3"
  },
  "language_info": {
   "codemirror_mode": {
    "name": "ipython",
    "version": 2
   },
   "file_extension": ".py",
   "mimetype": "text/x-python",
   "name": "python",
   "nbconvert_exporter": "python",
   "pygments_lexer": "ipython2",
   "version": "2.7.6"
  }
 },
 "nbformat": 4,
 "nbformat_minor": 5
}
