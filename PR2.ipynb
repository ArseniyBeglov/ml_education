{
 "cells": [
  {
   "cell_type": "code",
   "execution_count": 12,
   "id": "initial_id",
   "metadata": {
    "collapsed": true,
    "ExecuteTime": {
     "end_time": "2024-06-15T10:52:31.707301Z",
     "start_time": "2024-06-15T10:52:31.692592Z"
    }
   },
   "outputs": [],
   "source": [
    "import pandas as pd\n",
    "import numpy as np\n",
    "import matplotlib.pyplot as plt"
   ]
  },
  {
   "cell_type": "code",
   "execution_count": 13,
   "outputs": [],
   "source": [
    "data = pd.read_csv(\"2018Floor2.csv\")"
   ],
   "metadata": {
    "collapsed": false,
    "ExecuteTime": {
     "end_time": "2024-06-15T10:52:32.045710Z",
     "start_time": "2024-06-15T10:52:31.695514Z"
    }
   },
   "id": "ab4167b794f9318b"
  },
  {
   "cell_type": "code",
   "execution_count": 14,
   "outputs": [],
   "source": [
    "data = data.drop(columns=['Date'])"
   ],
   "metadata": {
    "collapsed": false,
    "ExecuteTime": {
     "end_time": "2024-06-15T10:52:32.061458Z",
     "start_time": "2024-06-15T10:52:32.046043Z"
    }
   },
   "id": "f5cba9f63f319f74"
  },
  {
   "cell_type": "code",
   "execution_count": 15,
   "outputs": [],
   "source": [
    "#проверка на выбросы\n",
    "columns=['z1_AC1(kW)', 'z1_Light(kW)', 'z1_Plug(kW)', 'z1_S1(degC)',\n",
    "       'z1_S1(RH%)', 'z1_S1(lux)', 'z2_AC1(kW)', 'z2_AC2(kW)', 'z2_AC3(kW)',\n",
    "       'z2_AC4(kW)', 'z2_AC5(kW)', 'z2_AC6(kW)', 'z2_AC7(kW)', 'z2_AC8(kW)',\n",
    "       'z2_AC9(kW)', 'z2_AC10(kW)', 'z2_AC11(kW)', 'z2_AC12(kW)',\n",
    "       'z2_AC13(kW)', 'z2_AC14(kW)', 'z2_Light(kW)', 'z2_Plug(kW)',\n",
    "       'z2_S1(degC)', 'z2_S1(RH%)', 'z2_S1(lux)', 'z3_Light(kW)',\n",
    "       'z3_Plug(kW)', 'z3_S1(degC)', 'z3_S1(RH%)', 'z3_S1(lux)', 'z4_AC1(kW)',\n",
    "       'z4_Light(kW)', 'z4_Plug(kW)']\n",
    "\n",
    "for column in columns:\n",
    "    mean = data[column].mean()\n",
    "    std = data[column].std()\n",
    "\n",
    "    z_scores = (data[column] - mean) / std\n",
    "\n",
    "    outliers = data[z_scores > 3]\n",
    "    outliers_index = outliers.index\n",
    "    data.drop(outliers_index, inplace=True)"
   ],
   "metadata": {
    "collapsed": false,
    "ExecuteTime": {
     "end_time": "2024-06-15T10:52:32.666696Z",
     "start_time": "2024-06-15T10:52:32.059341Z"
    }
   },
   "id": "875e6ba83860d6ad"
  },
  {
   "cell_type": "code",
   "execution_count": 16,
   "outputs": [
    {
     "name": "stderr",
     "output_type": "stream",
     "text": [
      "/Users/arsenijbeglov/PycharmProjects/ml_sem2/venv/lib/python3.9/site-packages/sklearn/utils/extmath.py:1108: RuntimeWarning: invalid value encountered in divide\n",
      "  updated_mean = (last_sum + new_sum) / updated_sample_count\n",
      "/Users/arsenijbeglov/PycharmProjects/ml_sem2/venv/lib/python3.9/site-packages/sklearn/utils/extmath.py:1113: RuntimeWarning: invalid value encountered in divide\n",
      "  T = new_sum / new_sample_count\n",
      "/Users/arsenijbeglov/PycharmProjects/ml_sem2/venv/lib/python3.9/site-packages/sklearn/utils/extmath.py:1133: RuntimeWarning: invalid value encountered in divide\n",
      "  new_unnormalized_variance -= correction**2 / new_sample_count\n"
     ]
    }
   ],
   "source": [
    "import pandas as pd\n",
    "from sklearn.model_selection import train_test_split\n",
    "from sklearn.preprocessing import StandardScaler\n",
    "\n",
    "\n",
    "data.fillna(data.mean(), inplace=True)\n",
    "\n",
    "# Нормализация данных\n",
    "scaler = StandardScaler()\n",
    "data_scaled = scaler.fit_transform(data)\n",
    "\n",
    "# Преобразование данных в DataFrame после нормализации\n",
    "data_scaled = pd.DataFrame(data_scaled, columns=data.columns)\n",
    "\n",
    "# Разделение данных на признаки и целевую переменную\n",
    "X = data_scaled.drop(columns=['z1_AC1(kW)'])\n",
    "y = data_scaled['z1_AC1(kW)']\n",
    "\n",
    "# Разделение данных на тренировочный и тестовый наборы\n",
    "X_train, X_test, y_train, y_test = train_test_split(X, y, test_size=0.2, random_state=42)"
   ],
   "metadata": {
    "collapsed": false,
    "ExecuteTime": {
     "end_time": "2024-06-15T10:52:32.827628Z",
     "start_time": "2024-06-15T10:52:32.659138Z"
    }
   },
   "id": "14c3e2758a08bbf5"
  },
  {
   "cell_type": "code",
   "execution_count": 16,
   "outputs": [],
   "source": [],
   "metadata": {
    "collapsed": false,
    "ExecuteTime": {
     "end_time": "2024-06-15T10:52:32.827943Z",
     "start_time": "2024-06-15T10:52:32.818379Z"
    }
   },
   "id": "1a8f2b3f4a8028e4"
  }
 ],
 "metadata": {
  "kernelspec": {
   "display_name": "Python 3",
   "language": "python",
   "name": "python3"
  },
  "language_info": {
   "codemirror_mode": {
    "name": "ipython",
    "version": 2
   },
   "file_extension": ".py",
   "mimetype": "text/x-python",
   "name": "python",
   "nbconvert_exporter": "python",
   "pygments_lexer": "ipython2",
   "version": "2.7.6"
  }
 },
 "nbformat": 4,
 "nbformat_minor": 5
}
