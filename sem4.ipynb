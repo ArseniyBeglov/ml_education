{
 "cells": [
  {
   "cell_type": "code",
   "execution_count": 2,
   "id": "initial_id",
   "metadata": {
    "collapsed": true,
    "ExecuteTime": {
     "end_time": "2024-04-23T19:14:44.742381Z",
     "start_time": "2024-04-23T19:13:59.972041Z"
    }
   },
   "outputs": [],
   "source": [
    "\n",
    "import numpy as np\n",
    "import pandas as pd\n",
    "df = pd.read_csv(\"ratings_movie.csv\")\n",
    "n_users = df['userId'].unique().shape[0] #Проверяем уникальность пользователей и объектов\n",
    "n_items = df['movieId'].unique().shape[0]\n",
    "df['movieId'] = df['movieId'].apply(lambda x: np.where(df['movieId'].unique() == x)[0][0] + 1) #Приводим значения item к диапазону от 1 до числа объектов\n",
    "from sklearn.model_selection import train_test_split\n",
    "train_data, test_data = train_test_split(df, test_size=0.20)\n",
    "train_data_matrix = np.zeros((n_users, n_items)) # Создаём две user-item матрицы \n",
    "for line in train_data.itertuples(): train_data_matrix[line[1] - 1, line[2] - 1] = line[3] \n",
    "test_data_matrix = np.zeros((n_users, n_items))\n",
    "for line in test_data.itertuples(): test_data_matrix[line[1] - 1, line[2] - 1] = line[3]"
   ]
  },
  {
   "cell_type": "code",
   "execution_count": 3,
   "outputs": [
    {
     "name": "stdout",
     "output_type": "stream",
     "text": [
      "User-based CF MSE: 2.9684791490194926\n"
     ]
    }
   ],
   "source": [
    "from sklearn.metrics import mean_squared_error\n",
    "def rmse(prediction, ground_truth): #Задаем метрику работы\n",
    "    prediction = prediction[ground_truth.nonzero()].flatten() \n",
    "    ground_truth = ground_truth[ground_truth.nonzero()].flatten() \n",
    "    return mean_squared_error(prediction, ground_truth)**0.5\n",
    "import scipy.sparse as sp\n",
    "from scipy.sparse.linalg import svds\n",
    "u, s, vt = svds(train_data_matrix, k=10) # SVD\n",
    "s_diag_matrix = np.diag(s)\n",
    "X_pred = np.dot(np.dot(u, s_diag_matrix), vt)\n",
    "print('User-based CF MSE: ' + str(rmse(X_pred, test_data_matrix)))"
   ],
   "metadata": {
    "collapsed": false,
    "ExecuteTime": {
     "end_time": "2024-04-23T19:14:54.939159Z",
     "start_time": "2024-04-23T19:14:44.746022Z"
    }
   },
   "id": "675fed86ad3204a1"
  }
 ],
 "metadata": {
  "kernelspec": {
   "display_name": "Python 3",
   "language": "python",
   "name": "python3"
  },
  "language_info": {
   "codemirror_mode": {
    "name": "ipython",
    "version": 2
   },
   "file_extension": ".py",
   "mimetype": "text/x-python",
   "name": "python",
   "nbconvert_exporter": "python",
   "pygments_lexer": "ipython2",
   "version": "2.7.6"
  }
 },
 "nbformat": 4,
 "nbformat_minor": 5
}
